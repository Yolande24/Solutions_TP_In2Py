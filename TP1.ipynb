{
 "cells": [
  {
   "cell_type": "markdown",
   "id": "f84f9b77",
   "metadata": {
    "id": "22f02e1a"
   },
   "source": [
    "\n",
    "### <center> <b> <span style=\"color:blue;\"> Travaux Pratiques: Variables, Types & Opérations </span> </b></center>"
   ]
  },
  {
   "cell_type": "markdown",
   "id": "e2d16138",
   "metadata": {
    "id": "ddc667e7"
   },
   "source": [
    "**Exercise 00:**  \n",
    ">\n",
    "\n",
    "  \n",
    "> 1. Déclarez une variable `prenom` et attribuez-lui une valeur.\n",
    "  > 2. Déclarez une variable `nom` et attribuez-lui une valeur.\n",
    "  > 3. Déclarez une variable `prenom_nom` et attribuez-lui une valeur.\n",
    "  > 4. Déclarez une variable `pays` et attribuez-lui une valeur.\n",
    "  > 5. Déclarez une variable `ville` et attribuez-lui une valeur.\n",
    "  > 6. Déclarez une variable `age` et attribuez-lui une valeur.\n",
    "  > 7. Déclarez une variable `annee` et attribuez-lui une valeur.\n",
    "  > 8. Déclarez une variable `est_marie` et attribuez-lui une valeur.\n",
    "  > 9. Déclarez une variable `est_vrai` et attribuez-lui une valeur.\n",
    "\n",
    "> Pour chacune des variables ci-dessus, affichez la valeur qu'elle contient à l'aide de la fonction `print()`.\n",
    "\n"
   ]
  },
  {
   "cell_type": "code",
   "execution_count": 5,
   "id": "65edc989",
   "metadata": {
    "id": "ebd3951d"
   },
   "outputs": [
    {
     "name": "stdout",
     "output_type": "stream",
     "text": [
      "Yolande\n",
      "\t\n",
      "ATONHONTON\n",
      "\t\n",
      "Yolande ATONHONTON\n",
      "\t\n",
      "Bénin\n",
      "\t\n",
      "Porto-Novo\n",
      "\t\n",
      "24\n",
      "\t\n",
      "2022\n",
      "\t\n",
      "à quelqu'un\n",
      "\t\n",
      "vrai\n"
     ]
    }
   ],
   "source": [
    "prenom=\"Yolande\"\n",
    "nom=\"ATONHONTON\"\n",
    "prenom_nom=\"Yolande ATONHONTON\"\n",
    "pays=\"Bénin\"\n",
    "ville=\"Porto-Novo\"\n",
    "age=24\n",
    "annee=2022\n",
    "est_marie=\"à quelqu'un\"\n",
    "est_vrai=\"vrai\"\n",
    "print(prenom)\n",
    "print('\\t')\n",
    "print(nom)\n",
    "print('\\t')\n",
    "print(prenom_nom)\n",
    "print('\\t')\n",
    "print(pays)\n",
    "print('\\t')\n",
    "print(ville)\n",
    "print('\\t')\n",
    "print(age)\n",
    "print('\\t')\n",
    "print(annee)\n",
    "print('\\t')\n",
    "print(est_marie)\n",
    "print('\\t')\n",
    "print(est_vrai)"
   ]
  },
  {
   "cell_type": "markdown",
   "id": "25d1c61d",
   "metadata": {
    "id": "85eb4f96"
   },
   "source": [
    "**Exercise 01:** \n",
    "> Vérifiez le type de données de toutes vos variables à l'aide de la fonction intégrée `type()`.**\n"
   ]
  },
  {
   "cell_type": "code",
   "execution_count": 16,
   "id": "bcfb2887",
   "metadata": {
    "id": "c5c47124"
   },
   "outputs": [
    {
     "data": {
      "text/plain": [
       "str"
      ]
     },
     "execution_count": 16,
     "metadata": {},
     "output_type": "execute_result"
    }
   ],
   "source": [
    "\n",
    "#type(prenom)\n",
    "#type(nom)\n",
    "#type(prenom_nom)\n",
    "#type(ville)\n",
    "#type(age)\n",
    "#type(annee)\n",
    "#type(est_marie)\n",
    "#type(est_vrai)\n",
    "# Décommenter pour avoir le type "
   ]
  },
  {
   "cell_type": "markdown",
   "id": "b280b9f6",
   "metadata": {
    "id": "76cdc19b"
   },
   "source": [
    "**Exercise 02:** \n",
    "> Calculez la valeur de $y$ ($y = x^2 + 6x + 9$). Essayez d'utiliser différentes valeurs de $x$ et déterminez à quelle valeur de $x$ $y$ sera égal à 0.**"
   ]
  },
  {
   "cell_type": "code",
   "execution_count": 25,
   "id": "134a09ee",
   "metadata": {
    "id": "fb4df11a"
   },
   "outputs": [
    {
     "name": "stdout",
     "output_type": "stream",
     "text": [
      "25\n",
      "\t\n",
      "16\n",
      "\t\n",
      "0\n"
     ]
    }
   ],
   "source": [
    "x=2\n",
    "y=x**2+6*x+9\n",
    "print(y)\n",
    "print('\\t')\n",
    "x=1\n",
    "y=x**2+6*x+9\n",
    "print(y)\n",
    "print('\\t')\n",
    "x=-3\n",
    "y=x**2+6*x+9\n",
    "print(y)"
   ]
  },
  {
   "cell_type": "markdown",
   "id": "0c0ca545",
   "metadata": {
    "id": "8f40e3ab"
   },
   "source": [
    "**Exercise 03:** \n",
    ">    \n",
    "\n",
    "     1. Déclarez votre âge sous forme de variable entière\n",
    "     2. Déclarez votre taille en tant que variable flottante\n",
    "     3. Déclarez une variable qui stocke la base et la hauteur d'un triangle. Calculez l'aire de ce triangle (aire = 0,5 x b x h)."
   ]
  },
  {
   "cell_type": "code",
   "execution_count": 34,
   "id": "472b2ab9",
   "metadata": {
    "id": "rpAlhgG_9A5z"
   },
   "outputs": [
    {
     "name": "stdout",
     "output_type": "stream",
     "text": [
      "Entrez la base du triangle5\n",
      "Entrez la hauteur du triangle4\n",
      "l'aire de ce triangle est\n",
      "10.0\n"
     ]
    }
   ],
   "source": [
    "age=24\n",
    "taille=1.76\n",
    "base=input(\"Entrez la base du triangle\")\n",
    "hauteur=input(\"Entrez la hauteur du triangle\")\n",
    "aire=(0.5)*float(base)*float(hauteur)\n",
    "print(\"l'aire de ce triangle est\")\n",
    "print(aire)"
   ]
  },
  {
   "cell_type": "markdown",
   "id": "ac11b86c",
   "metadata": {
    "id": "9957391d"
   },
   "source": [
    "## *Astuce : recevoir les entrées de l'utilisateur *\n",
    "**Pour recevoir une entrée de l'utilisateur, nous utilisons `input()`.**.\n",
    "\n",
    "**Exemple**\n",
    "Recevez deux nombres en entrée de l'utilisateur et calculez leur puissance :\n",
    "```python\n",
    "base = input(\"Entrez une base : \")\n",
    "exposant = input(\"Entrez un exposant : \")\n",
    "resultat = float(base) ** float(exposant)\n",
    "print(f \"{base} à la puissance {exposant} = {résultat}\")\n",
    "```"
   ]
  },
  {
   "cell_type": "markdown",
   "id": "2ed7f274",
   "metadata": {
    "id": "0fb34716"
   },
   "source": [
    "**Exercise 04:** \n",
    "> **Write a small code that asks the user to enter the side $a$, the side $b$ and the side $c$ of a triangle. Calculate the perimeter of the triangle (perimeter = a + b + c).**"
   ]
  },
  {
   "cell_type": "code",
   "execution_count": 36,
   "id": "3b79b846",
   "metadata": {
    "id": "6618f067"
   },
   "outputs": [
    {
     "name": "stdout",
     "output_type": "stream",
     "text": [
      "Entrez la longueur du premier côté du triangle5\n",
      "Entrez la longueur du deuxieme côté du triangle6\n",
      "Entrez la longueur du troisième côté du triangle8\n",
      "Le perimetre de ce triangle est\n",
      "19.0\n"
     ]
    }
   ],
   "source": [
    "a=input(\"Entrez la longueur du premier côté du triangle\")\n",
    "b=input(\"Entrez la longueur du deuxieme côté du triangle\")\n",
    "c=input(\"Entrez la longueur du troisième côté du triangle\")\n",
    "perimetre=float(a)+float(b)+float(c)\n",
    "print(\"Le perimetre de ce triangle est\")\n",
    "print(perimetre)"
   ]
  },
  {
   "cell_type": "markdown",
   "id": "e74e41e2",
   "metadata": {
    "id": "e482c15c"
   },
   "source": [
    "**Exercise 05:** \n",
    "> **Obtenez la longueur et la largeur d'un rectangle à l'aide de l'invite. Calculer sa `superficie` et son `perimetre`.**"
   ]
  },
  {
   "cell_type": "code",
   "execution_count": 37,
   "id": "f54f7faf",
   "metadata": {
    "id": "286cec4c"
   },
   "outputs": [
    {
     "name": "stdout",
     "output_type": "stream",
     "text": [
      "Entrez la longueur du rectangle5\n",
      "Entrez la largeur du rectangle6\n",
      "Le perimetre est \n",
      "22.0\n",
      "La superficie est \n",
      "30.0\n"
     ]
    }
   ],
   "source": [
    "longueur=input(\"Entrez la longueur du rectangle\")\n",
    "largeur=input(\"Entrez la largeur du rectangle\")\n",
    "superficie=float(longueur)*float(largeur)\n",
    "perimetre=(float(longueur)+float(largeur))*2\n",
    "print(\"Le perimetre est \")\n",
    "print(perimetre)\n",
    "print(\"La superficie est \", )\n",
    "print(superficie)"
   ]
  },
  {
   "cell_type": "markdown",
   "id": "54772596",
   "metadata": {
    "id": "cf15844c"
   },
   "source": [
    "**Exercice 06:** \n",
    "> **Obtenez le rayon d'un cercle en utilisant l'invite. Calculez l'aire (aire = pi x r x r) et la circonférence (c = 2 x pi x r) où pi = 3,14.**"
   ]
  },
  {
   "cell_type": "code",
   "execution_count": 42,
   "id": "6d022d0a",
   "metadata": {
    "id": "ee0ee85e"
   },
   "outputs": [
    {
     "name": "stdout",
     "output_type": "stream",
     "text": [
      "Entrez le rayon du cercle5\n",
      "L'aire  du cercle est 78.5\n",
      "La circonférence du cercle  31.400000000000002\n"
     ]
    }
   ],
   "source": [
    "pi=3.14\n",
    "rayon=input(\"Entrez le rayon du cercle \")\n",
    "aire=float(pi)*float(rayon)*float(rayon)\n",
    "circonference=(2)*float(pi)*float(rayon)\n",
    "print(\"L'aire  du cercle est\", aire)\n",
    "print(\"La circonférence du cercle \", circonference)"
   ]
  },
  {
   "cell_type": "markdown",
   "id": "9fd9adbc",
   "metadata": {
    "id": "d9dec37a"
   },
   "source": [
    "**Exercice 07:**\n",
    "> **Calculez la pente, l'ordonnée à l'origine en x et l'ordonnée à l'origine en $y$ de $y = 2x -2$.**"
   ]
  },
  {
   "cell_type": "code",
   "execution_count": 45,
   "id": "fcc5f421",
   "metadata": {
    "id": "203e449c"
   },
   "outputs": [
    {
     "name": "stdout",
     "output_type": "stream",
     "text": [
      "La pente est 2.0\n",
      "L'ordonnée à l'origine en y est  -2\n",
      "L'ordonnée à l'origine en x est \n"
     ]
    }
   ],
   "source": [
    "x_1=0\n",
    "y = 2*x_1 -2\n",
    "y_1=y\n",
    "x_2=1\n",
    "y = 2*x_2 -2\n",
    "y_2=y\n",
    "pente=(y_2-y_1)/(x_2-x_1)\n",
    "print(\"La pente est\", pente)\n",
    "print(\"L'ordonnée à l'origine en y est \",y_1)\n",
    "print(\"L'ordonnée à l'origine en x est \")"
   ]
  },
  {
   "cell_type": "markdown",
   "id": "50f063c0",
   "metadata": {
    "id": "2f74d685"
   },
   "source": [
    "**Exercice 08:** \n",
    "> **Rédigez un script qui demande à l'utilisateur d'entrer les heures et le taux horaire. Calculez la rémunération de la personne ?**"
   ]
  },
  {
   "cell_type": "code",
   "execution_count": 46,
   "id": "74738c6d",
   "metadata": {
    "id": "7cff5a0a"
   },
   "outputs": [
    {
     "name": "stdout",
     "output_type": "stream",
     "text": [
      "Entrez une heure21\n",
      "Entrez le taux horaire10\n",
      "La renumeration est  210.0\n"
     ]
    }
   ],
   "source": [
    "heure=input(\"Entrez une heure\")\n",
    "taux=input(\"Entrez le taux horaire\")\n",
    "renumeration=float(heure)*float(taux)\n",
    "print(\"La renumeration est \", renumeration)\n"
   ]
  },
  {
   "cell_type": "markdown",
   "id": "3d7e2bf8",
   "metadata": {
    "id": "6ddd662c"
   },
   "source": [
    "**Exercice 09:** \n",
    "> **Écrivez un script qui demande à l'utilisateur d'entrer le nombre d'années. Calculez le nombre de secondes qu'une personne peut vivre. Supposons qu'une personne puisse vivre cent ans.**"
   ]
  },
  {
   "cell_type": "code",
   "execution_count": 57,
   "id": "45719059",
   "metadata": {
    "id": "44c2a63c"
   },
   "outputs": [
    {
     "name": "stdout",
     "output_type": "stream",
     "text": [
      "Entrez le nombre d'annee5\n",
      "Le nombre de secondes qu'une personne peut vivre est  157680000 seconde\n"
     ]
    }
   ],
   "source": [
    "annee=input(\"Entrez le nombre d'annee\")\n",
    "seconde=int(annee)*int(365)*int(24)*int(60)*int(60)\n",
    "print(\"Le nombre de secondes qu'une personne peut vivre est \", seconde, \"seconde\")"
   ]
  },
  {
   "cell_type": "markdown",
   "id": "d3f93d75",
   "metadata": {
    "id": "9b253387"
   },
   "source": [
    "**Exercice 10:** \n",
    "> **Écrivez un script Python qui affiche le tableau suivant**\n",
    "\n",
    "    1 1 1 1 1\n",
    "    \n",
    "    2 1 2 4 8\n",
    "    \n",
    "    3 1 3 9 27\n",
    "    \n",
    "    4 1 4 16 64\n",
    "    \n",
    "    5 1 5 25 125"
   ]
  },
  {
   "cell_type": "code",
   "execution_count": 55,
   "id": "a6ce1302",
   "metadata": {
    "id": "aa2dae84"
   },
   "outputs": [
    {
     "name": "stdout",
     "output_type": "stream",
     "text": [
      "[1, 1, 1, 1, 1]\n",
      "[2, 1, 2, 4, 8]\n",
      "[3, 1, 3, 9, 27]\n",
      "[4, 1, 4, 16, 64]\n",
      "[5, 1, 5, 25, 125]\n"
     ]
    }
   ],
   "source": [
    "liste_1=[1,1,1,1,1]\n",
    "liste_2=[2,1,2,4,8]\n",
    "liste_3=[3,1,3,9,27]\n",
    "liste_4=[4,1,4,16,64]\n",
    "liste_5=[5,1,5,25,125]\n",
    "print(liste_1)\n",
    "print(liste_2)\n",
    "print(liste_3)\n",
    "print(liste_4)\n",
    "print(liste_5)"
   ]
  },
  {
   "cell_type": "markdown",
   "id": "f6239590",
   "metadata": {
    "id": "953e7d8c"
   },
   "source": [
    "**Exercise 11:** \n",
    ">**Attribuez aux variables `temps` et `distance` les valeurs $6.892$ et $19.7$. Calculer et afficher la valeur de la vitesse. Améliorer l'affichage en imposant un chiffre après la virgule.**"
   ]
  },
  {
   "cell_type": "code",
   "execution_count": 60,
   "id": "5eb561b2",
   "metadata": {
    "id": "6d787289"
   },
   "outputs": [
    {
     "name": "stdout",
     "output_type": "stream",
     "text": [
      "2.9\n"
     ]
    }
   ],
   "source": [
    "temps=6.892\n",
    "distance=19.7\n",
    "vitesse=distance/temps\n",
    "print(round(vitesse,1))"
   ]
  },
  {
   "cell_type": "markdown",
   "id": "20741f3b",
   "metadata": {
    "id": "2d0f1ff9"
   },
   "source": [
    "**Exercice 12:** \n",
    "> **Écrire un programme qui, à partir de la saisie d’un rayon et d’une hauteur, calcule levolume d’un cône droit.**"
   ]
  },
  {
   "cell_type": "code",
   "execution_count": 64,
   "id": "f8149f9d",
   "metadata": {
    "id": "969f5f68"
   },
   "outputs": [
    {
     "name": "stdout",
     "output_type": "stream",
     "text": [
      "Entrez le rayon du cône droit1\n",
      "Entrer la hauteur du cône droit3\n",
      "Le volume du cône droit est 3.1399999999999997\n"
     ]
    }
   ],
   "source": [
    "rayon=input(\"Entrez le rayon du cône droit\")\n",
    "hauteur=input(\"Entrer la hauteur du cône droit\")\n",
    "volume=(1/3)*(3.14)*(float(rayon)**2)*float(hauteur)\n",
    "print(\"Le volume du cône droit est\", volume)"
   ]
  },
  {
   "cell_type": "markdown",
   "id": "5074c5b9",
   "metadata": {
    "id": "e9b3ce2a"
   },
   "source": [
    "**Exercise 13:** \n",
    "> **L'utilisateur donne un entier positif et le programme annonce combien de fois de suite cet entier est divisible par 2.**"
   ]
  },
  {
   "cell_type": "code",
   "execution_count": null,
   "id": "e1572e1c",
   "metadata": {
    "id": "5c8fea9a"
   },
   "outputs": [],
   "source": []
  },
  {
   "cell_type": "markdown",
   "id": "0285535c",
   "metadata": {
    "id": "0485aed6"
   },
   "source": [
    "**Exercise 14:** \n",
    ">**L'utilisateur donne un nombre entier entre 2 et 12, le programme donne le nombre de façons de le faire en lançant deux dés.**"
   ]
  },
  {
   "cell_type": "code",
   "execution_count": null,
   "id": "e68dcad4",
   "metadata": {
    "id": "31f48a15"
   },
   "outputs": [],
   "source": []
  },
  {
   "cell_type": "markdown",
   "id": "16aa23d0",
   "metadata": {
    "id": "cead0c8f"
   },
   "source": [
    "**Exercice 15:** \n",
    "> **Utilisez la fonction d'entrée intégrée `input()` pour obtenir le `_prénom_`, le `_nom_`, le `_pays_d_origine` et l'`_age_` d'un utilisateur et stockez la valeur dans les noms des variables correspondantes.**"
   ]
  },
  {
   "cell_type": "code",
   "execution_count": 70,
   "id": "60bfca7a",
   "metadata": {
    "id": "0a2694a9"
   },
   "outputs": [
    {
     "name": "stdout",
     "output_type": "stream",
     "text": [
      "Entrez le prenomjniu\n",
      "Entrez le nomhnk\n",
      "Entrez le pays d'origineiuiujiu\n",
      "Entrez l'age47\n"
     ]
    }
   ],
   "source": [
    "_prenom_=input(\"Entrez le prenom\")\n",
    "_nom_=input(\"Entrez le nom\")\n",
    "_pays_d_origine=input(\"Entrez le pays d'origine\")\n",
    "_age_=input(\"Entrez l'age\")"
   ]
  },
  {
   "cell_type": "markdown",
   "id": "867445cc",
   "metadata": {
    "id": "33240a56"
   },
   "source": [
    "**Exercice 16:** \n",
    "\n",
    "**Déclarer $5$ comme `num_one` et $4$ comme `num_two`**\n",
    "\n",
    "   1. Additionner `num_one` et `num_two` et affecter la valeur à une variable `totale`.\n",
    "   2. Soustraire `num_two` de `num_one` et affecter la valeur à une variable `diff`.\n",
    "   3. Multipliez le `num_one` et le `num_two` et attribuez la valeur à une variable `produit`.\n",
    "   4. Divisez le `num_one` par le `num_two` et attribuez la valeur à une variable `division`.\n",
    "   5. Calculez `num_one` à la puissance de `num_two` et attribuez la valeur à une variable `exp`."
   ]
  },
  {
   "cell_type": "code",
   "execution_count": 71,
   "id": "54e55c72",
   "metadata": {
    "id": "c2f3e814"
   },
   "outputs": [],
   "source": [
    "num_one=5\n",
    "num_two=4\n",
    "total=int(num_one)+int(num_two)\n",
    "diff=int(num_one)-int(num_two)\n",
    "produit=int(num_one)*int(num_two)\n",
    "division=int(num_one)/int(num_two)\n",
    "exp=int(num_one)**int(num_two)"
   ]
  },
  {
   "cell_type": "markdown",
   "id": "9dadf300",
   "metadata": {
    "id": "80763237"
   },
   "source": [
    "<center> <b> <span style=\"color:orange;\"> 🎉 FÉLICITATIONS! 🎉 </span> </b></center>"
   ]
  }
 ],
 "metadata": {
  "colab": {
   "collapsed_sections": [],
   "name": "In2Py_TP_01.ipynb",
   "provenance": []
  },
  "kernelspec": {
   "display_name": "Python 3 (ipykernel)",
   "language": "python",
   "name": "python3"
  },
  "language_info": {
   "codemirror_mode": {
    "name": "ipython",
    "version": 3
   },
   "file_extension": ".py",
   "mimetype": "text/x-python",
   "name": "python",
   "nbconvert_exporter": "python",
   "pygments_lexer": "ipython3",
   "version": "3.7.3"
  }
 },
 "nbformat": 4,
 "nbformat_minor": 5
}
