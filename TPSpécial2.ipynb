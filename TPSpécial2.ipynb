{
 "cells": [
  {
   "cell_type": "markdown",
   "id": "268cf90d",
   "metadata": {},
   "source": [
    "### Exercice 1"
   ]
  },
  {
   "cell_type": "code",
   "execution_count": 7,
   "id": "a1ea3d91",
   "metadata": {},
   "outputs": [
    {
     "name": "stdout",
     "output_type": "stream",
     "text": [
      "-224.4961203538991\n"
     ]
    }
   ],
   "source": [
    "import math\n",
    "x=5\n",
    "y=4\n",
    "z=math.sqrt(x**(2+y))/(1/x+math.sin(y))\n",
    "print(z)"
   ]
  },
  {
   "cell_type": "markdown",
   "id": "39fc30bb",
   "metadata": {},
   "source": [
    "### Exercice 2"
   ]
  },
  {
   "cell_type": "code",
   "execution_count": 8,
   "id": "a581657d",
   "metadata": {},
   "outputs": [],
   "source": [
    "def ownpowerfn(b,n):\n",
    "    \"\"\"Calcul de puissance\"\"\"\n",
    "    b=int(input(\"Entrez un entier\"))\n",
    "    n=int(input(\"Entrez un entier positif\"))\n",
    "    while n<0:\n",
    "        n=int(input(\"Entrez un entier positif\"))\n",
    "    return b**n\n",
    "\n",
    "# Si n est inférieur à 0 alors la fonction retourne un resultat inférieur à 1"
   ]
  },
  {
   "cell_type": "markdown",
   "id": "40e3b79a",
   "metadata": {},
   "source": [
    "### Exercice 3 a)"
   ]
  },
  {
   "cell_type": "code",
   "execution_count": null,
   "id": "6b348e89",
   "metadata": {},
   "outputs": [],
   "source": [
    "import math\n",
    "def arithmetic_mean():\n",
    "    \"\"\"Somme arithmétique de deux nombres\"\"\"\n",
    "    x=int(input(\"Entrez un entier \"))\n",
    "    y=int(input(\"Entrez un entier \"))\n",
    "    return (x+y)/2\n",
    "\n",
    "def geometric_mean():\n",
    "    \"\"\"Somme géomtétrique de deux nombres\"\"\"\n",
    "    x=int(input(\"Entrez un entier \"))\n",
    "    y=int(input(\"Entrez un entier \"))\n",
    "    return math.sqrt(x*y)"
   ]
  },
  {
   "cell_type": "markdown",
   "id": "50255f7e",
   "metadata": {},
   "source": [
    "### Exercice 3 b)"
   ]
  },
  {
   "cell_type": "code",
   "execution_count": 10,
   "id": "820b2470",
   "metadata": {},
   "outputs": [],
   "source": [
    "def Celsius_Fahrenheit():\n",
    "    \"\"\"Conversion de température en Fahrenheit\"\"\"\n",
    "    c=int(input(\"Entrez la température en celsuis\"))\n",
    "    return (c*9/5)+32\n",
    "\n",
    "def Fahrenheit_Celsius():\n",
    "    \"\"\"Conversion de température en Celuis\"\"\"\n",
    "    f=int(input(\"Entrez la température en celsuis\"))\n",
    "    return (f-32)*5/9"
   ]
  },
  {
   "cell_type": "markdown",
   "id": "f5fc95df",
   "metadata": {},
   "source": [
    "###  Exercice 3 c)"
   ]
  },
  {
   "cell_type": "code",
   "execution_count": 11,
   "id": "ec40b3bc",
   "metadata": {},
   "outputs": [],
   "source": [
    "def degrees_to_radian():\n",
    "    \"\"\"Conversion d'un angle en radian\"\"\"\n",
    "    mes=int(input(\"Entrez la mesure en degré\"))\n",
    "    return (180*mes)/3.14\n",
    "\n",
    "def radian_to_degrees():\n",
    "    \"\"\"Conversion d'un angle en degré\"\"\"\n",
    "    mes=int(input(\"Entrez la mesure en radian\"))\n",
    "    return (3.14*mes)/180"
   ]
  },
  {
   "cell_type": "markdown",
   "id": "9f5a0cb4",
   "metadata": {},
   "source": [
    "### Exercice 3 d)"
   ]
  },
  {
   "cell_type": "code",
   "execution_count": 12,
   "id": "0c80a7cf",
   "metadata": {},
   "outputs": [],
   "source": [
    "def aire():\n",
    "    \"\"\"Calcul de l'aire d'un cercle\"\"\"\n",
    "    rayon=float(input(\"Entrez le rayon du cercle\"))\n",
    "    return (rayon**2)*3.14\n",
    "\n",
    "def circonférence():\n",
    "    \"\"\"Calcul de de la circonférence d'un cercle\"\"\"\n",
    "    rayon=float(input(\"Entrez le rayon du cercle\"))\n",
    "    return rayon*2*3.14"
   ]
  },
  {
   "cell_type": "markdown",
   "id": "10f140f0",
   "metadata": {},
   "source": [
    "### Exercice 4 a)"
   ]
  },
  {
   "cell_type": "code",
   "execution_count": 19,
   "id": "ec895a42",
   "metadata": {},
   "outputs": [
    {
     "name": "stdout",
     "output_type": "stream",
     "text": [
      "5.0  ,  4.0\n",
      "4.5  ,  4.47213595499958\n",
      "4.48606797749979  ,  4.486046343663662\n",
      "4.486057160581726  ,  4.486057160568685\n",
      "4.486057160575205  ,  4.486057160575206\n",
      "4.486057160575205  ,  4.486057160575206\n",
      "4.486057160575205  ,  4.486057160575206\n",
      "4.486057160575205  ,  4.486057160575206\n",
      "4.486057160575205  ,  4.486057160575206\n",
      "4.486057160575205  ,  4.486057160575206\n",
      "None\n"
     ]
    }
   ],
   "source": [
    "import math\n",
    "def avggeon(x,y):\n",
    "    \"\"\"Calcul de moyennes arithmétique et géométrique\"\"\"\n",
    "    for i in range(0,10):\n",
    "        a=(x+y)/2\n",
    "        b=math.sqrt(x*y)\n",
    "        print(a, \" , \", b)\n",
    "        x=a\n",
    "        y=b\n",
    "\n",
    "print(avggeon(8,2))"
   ]
  },
  {
   "cell_type": "markdown",
   "id": "daf1c91f",
   "metadata": {},
   "source": [
    "### Exercice 4 b)"
   ]
  },
  {
   "cell_type": "code",
   "execution_count": 24,
   "id": "f170a013",
   "metadata": {},
   "outputs": [
    {
     "name": "stdout",
     "output_type": "stream",
     "text": [
      "Le périmètre est  30.349953491648215\n"
     ]
    }
   ],
   "source": [
    "import math\n",
    "def distancefn(x1,x2,y1,y2):\n",
    "    \"\"\"Calcul distance en deux points du plan.\"\"\"\n",
    "    return math.sqrt((x1-x2)**2+(y1-y2)**2)\n",
    "\n",
    "A=[2,6]\n",
    "B=[8,9]\n",
    "C=[0,-3]\n",
    "d1=distancefn(A[0],B[0],A[1],B[1])\n",
    "d2=distancefn(A[0],C[0],A[1],C[1])\n",
    "d3=distancefn(B[0],C[0],B[1],C[1])\n",
    "perimetre= d1+d2+d3\n",
    "print(\"Le périmètre est \",perimetre)"
   ]
  },
  {
   "cell_type": "markdown",
   "id": "68f5c750",
   "metadata": {},
   "source": [
    "### Exercice 5"
   ]
  },
  {
   "cell_type": "code",
   "execution_count": 37,
   "id": "b58fbd40",
   "metadata": {},
   "outputs": [],
   "source": [
    "def fact2nddeg():\n",
    "    x=int(print(\"Entrez 0 pour sortir du programme, 1 pour calculer un factoriel et 2 pour évaluer un polygone du second degré\"))\n",
    "    if x==0:\n",
    "        print(\"Fin du programme\")\n",
    "    elif x==1:\n",
    "        n=int(input(\"Entrez le nombre dont vous voulez calculer le factoriel\"))\n",
    "        fact=1\n",
    "        for i in rang(1,n+1):\n",
    "            fact=fact*i\n",
    "        print(\"Le factoriel de \", n, \" est \", fact)\n",
    "    elif x==2:\n",
    "        print(\"Entrez successivement les coefficients du polygône en commençant par le cofficient de degré 2\")\n",
    "        a=int(input(\"\"))\n",
    "        if a==0:\n",
    "            print(\"impossible\")\n",
    "        b=int(input(\"\"))\n",
    "        c=int(input(\"\"))\n",
    "        delta=b**2-4*a*c\n",
    "        if delta==0:\n",
    "            print(\"Une racine double\")\n",
    "        elif delta < 0:\n",
    "            print(\"Pas de racine\")\n",
    "        else:\n",
    "            print(\"Deux racines distinctes\")\n",
    "    else:\n",
    "        while x!=0:\n",
    "            x=int(print(\"Entrez 0 pour sortir du programme, 1 pour calculer un factoriel et 2 pour évaluer un polygone du second degré\"))"
   ]
  },
  {
   "cell_type": "markdown",
   "id": "11f27736",
   "metadata": {},
   "source": [
    "### Exercice 6"
   ]
  },
  {
   "cell_type": "code",
   "execution_count": 35,
   "id": "c6a05b1a",
   "metadata": {},
   "outputs": [
    {
     "name": "stdout",
     "output_type": "stream",
     "text": [
      "8\n"
     ]
    }
   ],
   "source": [
    "def puissance(x,n):\n",
    "    if n==0:\n",
    "        res=1\n",
    "    else:\n",
    "        res=x*puissance(x,n-1)\n",
    "    return res\n",
    "print(puissance(2,3))"
   ]
  },
  {
   "cell_type": "markdown",
   "id": "23cd8197",
   "metadata": {},
   "source": [
    "### Exercice 7"
   ]
  },
  {
   "cell_type": "code",
   "execution_count": 43,
   "id": "bee27cfc",
   "metadata": {},
   "outputs": [
    {
     "name": "stdout",
     "output_type": "stream",
     "text": [
      "0\n",
      "1\n",
      "1\n",
      "2\n",
      "3\n",
      "5\n",
      "8\n",
      "13\n",
      "21\n",
      "34\n",
      "55\n",
      "89\n",
      "144\n",
      "233\n",
      "377\n",
      "610\n",
      "987\n",
      "1597\n",
      "2584\n",
      "4181\n",
      "6765\n",
      "10946\n",
      "17711\n",
      "28657\n",
      "46368\n",
      "75025\n",
      "121393\n",
      "196418\n",
      "317811\n",
      "514229\n",
      "832040\n"
     ]
    },
    {
     "ename": "KeyboardInterrupt",
     "evalue": "",
     "output_type": "error",
     "traceback": [
      "\u001b[0;31m---------------------------------------------------------------------------\u001b[0m",
      "\u001b[0;31mKeyboardInterrupt\u001b[0m                         Traceback (most recent call last)",
      "Input \u001b[0;32mIn [43]\u001b[0m, in \u001b[0;36m<cell line: 10>\u001b[0;34m()\u001b[0m\n\u001b[1;32m      9\u001b[0m         \u001b[38;5;28;01mreturn\u001b[39;00m fibonacci(n\u001b[38;5;241m-\u001b[39m\u001b[38;5;241m1\u001b[39m)\u001b[38;5;241m+\u001b[39mfibonacci(n\u001b[38;5;241m-\u001b[39m\u001b[38;5;241m2\u001b[39m)\n\u001b[1;32m     10\u001b[0m \u001b[38;5;28;01mfor\u001b[39;00m i \u001b[38;5;129;01min\u001b[39;00m \u001b[38;5;28mrange\u001b[39m(\u001b[38;5;241m0\u001b[39m,\u001b[38;5;241m100\u001b[39m):\n\u001b[0;32m---> 11\u001b[0m     \u001b[38;5;28mprint\u001b[39m(\u001b[43mfibonacci\u001b[49m\u001b[43m(\u001b[49m\u001b[43mi\u001b[49m\u001b[43m)\u001b[49m)\n",
      "Input \u001b[0;32mIn [43]\u001b[0m, in \u001b[0;36mfibonacci\u001b[0;34m(n)\u001b[0m\n\u001b[1;32m      7\u001b[0m     \u001b[38;5;28;01mreturn\u001b[39;00m a_1\n\u001b[1;32m      8\u001b[0m \u001b[38;5;28;01melse\u001b[39;00m:\n\u001b[0;32m----> 9\u001b[0m     \u001b[38;5;28;01mreturn\u001b[39;00m fibonacci(n\u001b[38;5;241m-\u001b[39m\u001b[38;5;241m1\u001b[39m)\u001b[38;5;241m+\u001b[39m\u001b[43mfibonacci\u001b[49m\u001b[43m(\u001b[49m\u001b[43mn\u001b[49m\u001b[38;5;241;43m-\u001b[39;49m\u001b[38;5;241;43m2\u001b[39;49m\u001b[43m)\u001b[49m\n",
      "Input \u001b[0;32mIn [43]\u001b[0m, in \u001b[0;36mfibonacci\u001b[0;34m(n)\u001b[0m\n\u001b[1;32m      7\u001b[0m     \u001b[38;5;28;01mreturn\u001b[39;00m a_1\n\u001b[1;32m      8\u001b[0m \u001b[38;5;28;01melse\u001b[39;00m:\n\u001b[0;32m----> 9\u001b[0m     \u001b[38;5;28;01mreturn\u001b[39;00m fibonacci(n\u001b[38;5;241m-\u001b[39m\u001b[38;5;241m1\u001b[39m)\u001b[38;5;241m+\u001b[39m\u001b[43mfibonacci\u001b[49m\u001b[43m(\u001b[49m\u001b[43mn\u001b[49m\u001b[38;5;241;43m-\u001b[39;49m\u001b[38;5;241;43m2\u001b[39;49m\u001b[43m)\u001b[49m\n",
      "    \u001b[0;31m[... skipping similar frames: fibonacci at line 9 (18 times)]\u001b[0m\n",
      "Input \u001b[0;32mIn [43]\u001b[0m, in \u001b[0;36mfibonacci\u001b[0;34m(n)\u001b[0m\n\u001b[1;32m      7\u001b[0m     \u001b[38;5;28;01mreturn\u001b[39;00m a_1\n\u001b[1;32m      8\u001b[0m \u001b[38;5;28;01melse\u001b[39;00m:\n\u001b[0;32m----> 9\u001b[0m     \u001b[38;5;28;01mreturn\u001b[39;00m fibonacci(\u001b[43mn\u001b[49m\u001b[38;5;241;43m-\u001b[39;49m\u001b[38;5;241;43m1\u001b[39;49m)\u001b[38;5;241m+\u001b[39mfibonacci(n\u001b[38;5;241m-\u001b[39m\u001b[38;5;241m2\u001b[39m)\n",
      "\u001b[0;31mKeyboardInterrupt\u001b[0m: "
     ]
    }
   ],
   "source": [
    "def fibonacci(n):\n",
    "    a_0=0\n",
    "    a_1=1\n",
    "    if n==0:\n",
    "        return a_0\n",
    "    elif n==1:\n",
    "        return a_1\n",
    "    else:\n",
    "        return fibonacci(n-1)+fibonacci(n-2)\n",
    "for i in range(0,100):\n",
    "    print(fibonacci(i))"
   ]
  },
  {
   "cell_type": "code",
   "execution_count": null,
   "id": "e62e59a5",
   "metadata": {},
   "outputs": [],
   "source": []
  }
 ],
 "metadata": {
  "kernelspec": {
   "display_name": "Python 3 (ipykernel)",
   "language": "python",
   "name": "python3"
  },
  "language_info": {
   "codemirror_mode": {
    "name": "ipython",
    "version": 3
   },
   "file_extension": ".py",
   "mimetype": "text/x-python",
   "name": "python",
   "nbconvert_exporter": "python",
   "pygments_lexer": "ipython3",
   "version": "3.8.10"
  }
 },
 "nbformat": 4,
 "nbformat_minor": 5
}
