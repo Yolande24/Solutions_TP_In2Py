{
 "cells": [
  {
   "cell_type": "markdown",
   "id": "b37411b6",
   "metadata": {},
   "source": [
    "### Exercice 1\n",
    ">Somme"
   ]
  },
  {
   "cell_type": "code",
   "execution_count": null,
   "id": "21b873ce",
   "metadata": {},
   "outputs": [],
   "source": [
    "n=int(input(\"Veuillez saisir un entier: \"))\n",
    "somme=0\n",
    "for i in range(0, n):\n",
    "    somme=somme+(i+3)\n",
    "print(somme)"
   ]
  },
  {
   "cell_type": "markdown",
   "id": "8e929b68",
   "metadata": {},
   "source": [
    ">Produit"
   ]
  },
  {
   "cell_type": "code",
   "execution_count": 1,
   "id": "6f449723",
   "metadata": {},
   "outputs": [
    {
     "name": "stdout",
     "output_type": "stream",
     "text": [
      "Veuillez saisir un entier: 4\n",
      "360\n"
     ]
    }
   ],
   "source": [
    "n=int(input(\"Veuillez saisir un entier: \"))\n",
    "produit=1\n",
    "for i in range(0, n):\n",
    "    produit=produit*(i+3)\n",
    "print(produit)"
   ]
  },
  {
   "cell_type": "markdown",
   "id": "c86578a3",
   "metadata": {},
   "source": [
    "### Exercice 2"
   ]
  },
  {
   "cell_type": "code",
   "execution_count": 4,
   "id": "5eef75d1",
   "metadata": {},
   "outputs": [
    {
     "name": "stdout",
     "output_type": "stream",
     "text": [
      "Entrez le numero du jour de la semaine (0 à 6)2\n",
      "Mercredi\n"
     ]
    }
   ],
   "source": [
    "n=int(input(\"Entrez le numero du jour de la semaine (0 à 6) \"))\n",
    "semaine=[\"Lundi\", \"Mardi\",\"Mercredi\", \"Jeudi\", \"Vendredi\", \"Samedi\", \"Dimanche\"]\n",
    "if n in [0, 1, 2, 3, 4]:\n",
    "    print(semaine[n])\n",
    "elif n in [5,6]:\n",
    "    print(\"Week-end\")\n",
    "else:\n",
    "    print(\"Le numero ne convient pas\")"
   ]
  },
  {
   "cell_type": "markdown",
   "id": "817fb417",
   "metadata": {},
   "source": [
    "### Exercice 3"
   ]
  },
  {
   "cell_type": "code",
   "execution_count": 8,
   "id": "a558cf35",
   "metadata": {},
   "outputs": [
    {
     "name": "stdout",
     "output_type": "stream",
     "text": [
      "Entrez le numero du mois (0,11) 14\n",
      "Le numero ne convient pas\n"
     ]
    }
   ],
   "source": [
    "n=int(input(\"Entrez le numero du mois (0,11) \"))\n",
    "if n==1:\n",
    "    print(\"Le mois de numero\", n, \" a 28 jours\")\n",
    "elif n in [0, 2, 4, 6, 7, 9, 11]:\n",
    "    print(\"Le mois de numero\", n, \" a 31 jours\")\n",
    "elif n in [3, 5, 8, 10]:\n",
    "    print(\"Le mois de numero\", n, \" a 30 jours\")\n",
    "else:\n",
    "    print(\"Le numero ne convient pas\")\n",
    "         "
   ]
  },
  {
   "cell_type": "markdown",
   "id": "94330251",
   "metadata": {},
   "source": [
    "### Exercice 4"
   ]
  },
  {
   "cell_type": "code",
   "execution_count": 9,
   "id": "13ae8ec5",
   "metadata": {},
   "outputs": [
    {
     "name": "stdout",
     "output_type": "stream",
     "text": [
      "Yolande\n",
      "Yolande\n",
      "Yolande\n",
      "Yolande\n",
      "Yolande\n",
      "Yolande\n"
     ]
    }
   ],
   "source": [
    "for i in range(0,3):\n",
    "    print(\"Yolande\")\n",
    "i=0\n",
    "while i<3:\n",
    "    print(\"Yolande\")\n",
    "    i+=1"
   ]
  },
  {
   "cell_type": "markdown",
   "id": "79611980",
   "metadata": {},
   "source": [
    "### Exercice 5"
   ]
  },
  {
   "cell_type": "code",
   "execution_count": 1,
   "id": "86f5f276",
   "metadata": {},
   "outputs": [
    {
     "name": "stdout",
     "output_type": "stream",
     "text": [
      "0\n",
      "1\n",
      "1\n",
      "2\n",
      "3\n",
      "5\n",
      "8\n",
      "13\n",
      "21\n",
      "34\n",
      "55\n",
      "89\n",
      "144\n",
      "233\n",
      "377\n"
     ]
    }
   ],
   "source": [
    "def fibonacci(n):\n",
    "    a_0=0\n",
    "    a_1=1\n",
    "    if n==0:\n",
    "        return a_0\n",
    "    elif n==1:\n",
    "        return a_1\n",
    "    else:\n",
    "        return fibonacci(n-1)+fibonacci(n-2)\n",
    "for i in range(0,15):\n",
    "    print(fibonacci(i))"
   ]
  },
  {
   "cell_type": "markdown",
   "id": "0589a072",
   "metadata": {},
   "source": [
    "### Exercice 6"
   ]
  },
  {
   "cell_type": "code",
   "execution_count": 3,
   "id": "7928d43d",
   "metadata": {},
   "outputs": [
    {
     "name": "stdout",
     "output_type": "stream",
     "text": [
      "0\n",
      "1\n",
      "0.5\n",
      "3.25\n",
      "3.125\n",
      "11.3125\n",
      "15.03125\n",
      "41.453125\n",
      "65.8203125\n",
      "157.26953125\n",
      "276.095703125\n",
      "609.8564453125\n",
      "1133.21533203125\n",
      "2396.177001953125\n",
      "4597.7344970703125\n",
      "9487.398254394531\n",
      "18536.902618408203\n",
      "37730.646072387695\n",
      "74476.03089141846\n",
      "150429.9536628723\n",
      "298643.0695056915\n",
      "600611.3957414627\n",
      "1196234.906387806\n",
      "2399951.640418291\n",
      "4788680.539372563\n",
      "9594195.190941155\n",
      "19163139.213588268\n",
      "38364155.1796176\n",
      "76671495.2305736\n",
      "153428213.15413958\n"
     ]
    }
   ],
   "source": [
    "def sequence(n):\n",
    "    a_0=0\n",
    "    a_1=1\n",
    "    if n==0:\n",
    "        return a_0\n",
    "    elif n==1:\n",
    "        return a_1\n",
    "    else:\n",
    "        return (1/2)*sequence(n-1)+3*sequence(n-2)\n",
    "for i in range(0,30):\n",
    "    print(sequence(i))"
   ]
  },
  {
   "cell_type": "markdown",
   "id": "9e94b535",
   "metadata": {},
   "source": [
    "### Exercice 7"
   ]
  },
  {
   "cell_type": "code",
   "execution_count": 6,
   "id": "9a66dc59",
   "metadata": {},
   "outputs": [
    {
     "name": "stdout",
     "output_type": "stream",
     "text": [
      "Entrez une année4\n",
      "Année bixesstile\n"
     ]
    }
   ],
   "source": [
    "annee=int(input(\"Entrez une année \"))\n",
    "if annee%4==0:\n",
    "    print(\"Année bixesstile\")\n",
    "else:\n",
    "    print(\"Annee commune\")"
   ]
  },
  {
   "cell_type": "markdown",
   "id": "048416c4",
   "metadata": {},
   "source": [
    "### Exercice 8 a)"
   ]
  },
  {
   "cell_type": "code",
   "execution_count": 9,
   "id": "25099cbe",
   "metadata": {},
   "outputs": [
    {
     "name": "stdout",
     "output_type": "stream",
     "text": [
      "Entrez un entier naturel5\n",
      "30\n"
     ]
    }
   ],
   "source": [
    "n=int(input(\"Entrez un entier naturel \"))\n",
    "sum=0\n",
    "for i in range(0,n):\n",
    "    sum+=i**2\n",
    "print(sum)"
   ]
  },
  {
   "cell_type": "markdown",
   "id": "a1fe4516",
   "metadata": {},
   "source": [
    "### Exercice 8 a)"
   ]
  },
  {
   "cell_type": "code",
   "execution_count": 12,
   "id": "cf3c5d9e",
   "metadata": {},
   "outputs": [
    {
     "name": "stdout",
     "output_type": "stream",
     "text": [
      "Entrez un entier naturel 5\n",
      "30\n"
     ]
    }
   ],
   "source": [
    "n=int(input(\"Entrez un entier naturel \"))\n",
    "sum=0\n",
    "i=0\n",
    "while i < n:\n",
    "    sum+=i**2\n",
    "    i+=1\n",
    "print(sum)"
   ]
  },
  {
   "cell_type": "markdown",
   "id": "e4a8453b",
   "metadata": {},
   "source": [
    "### Exercice 8 b)"
   ]
  },
  {
   "cell_type": "code",
   "execution_count": 18,
   "id": "93139c41",
   "metadata": {},
   "outputs": [
    {
     "name": "stdout",
     "output_type": "stream",
     "text": [
      "Entrez un entier naturel 4\n",
      "2\n"
     ]
    }
   ],
   "source": [
    "m=int(input(\"Entrez un entier naturel \"))\n",
    "sum=0\n",
    "i=0\n",
    "while sum < m:\n",
    "    i+=1\n",
    "    sum+=i**2\n",
    "print(i)"
   ]
  },
  {
   "cell_type": "markdown",
   "id": "dd22367e",
   "metadata": {},
   "source": [
    "### Exercice 9 a)"
   ]
  },
  {
   "cell_type": "code",
   "execution_count": 22,
   "id": "47784915",
   "metadata": {},
   "outputs": [
    {
     "name": "stdout",
     "output_type": "stream",
     "text": [
      "Entrez un entier naturel 10\n",
      "1\n",
      "2\n",
      "5\n",
      "10\n"
     ]
    }
   ],
   "source": [
    "n=int(input(\"Entrez un entier naturel \"))\n",
    "i=0\n",
    "for i in range(1,n+1):\n",
    "    if n%i==0:\n",
    "        print(i)"
   ]
  },
  {
   "cell_type": "markdown",
   "id": "9d204653",
   "metadata": {},
   "source": [
    "### Exercice 9 b)"
   ]
  },
  {
   "cell_type": "code",
   "execution_count": 24,
   "id": "b7a25403",
   "metadata": {},
   "outputs": [
    {
     "name": "stdout",
     "output_type": "stream",
     "text": [
      "Entrez un entier naturel 10\n",
      "18\n"
     ]
    }
   ],
   "source": [
    "n=int(input(\"Entrez un entier naturel \"))\n",
    "i=0\n",
    "sum=0\n",
    "for i in range(1,n+1):\n",
    "    if n%i==0:\n",
    "        sum+=i\n",
    "print(sum)"
   ]
  },
  {
   "cell_type": "markdown",
   "id": "3aad1cce",
   "metadata": {},
   "source": [
    "### Exercice 10"
   ]
  },
  {
   "cell_type": "code",
   "execution_count": 27,
   "id": "cc43ef19",
   "metadata": {},
   "outputs": [
    {
     "name": "stdout",
     "output_type": "stream",
     "text": [
      "Entrez un entier naturel entre 0 et 9 9\n",
      "Entrez un entier naturel 10\n",
      "9 * 0 = 0\n",
      "9 * 1 = 9\n",
      "9 * 2 = 18\n",
      "9 * 3 = 27\n",
      "9 * 4 = 36\n",
      "9 * 5 = 45\n",
      "9 * 6 = 54\n",
      "9 * 7 = 63\n",
      "9 * 8 = 72\n",
      "9 * 9 = 81\n",
      "9 * 10 = 90\n"
     ]
    }
   ],
   "source": [
    "n=int(input(\"Entrez un entier naturel entre 0 et 9 \"))\n",
    "N=int(input(\"Entrez un entier naturel \"))\n",
    "for i in range(0,N+1):\n",
    "    res=i*n\n",
    "    print(n,\"*\",i,\"=\",res)"
   ]
  },
  {
   "cell_type": "markdown",
   "id": "46dcb6b1",
   "metadata": {},
   "source": [
    "### Exercice 11"
   ]
  },
  {
   "cell_type": "code",
   "execution_count": 28,
   "id": "4457a3b6",
   "metadata": {
    "scrolled": true
   },
   "outputs": [
    {
     "name": "stdout",
     "output_type": "stream",
     "text": [
      "multiple de 3 0\n",
      "multiple de 3 3\n",
      "multiple de 3 6\n",
      "multiple de 3 9\n",
      "multiple de 3 12\n",
      "multiple de 3 15\n",
      "multiple de 3 18\n",
      "multiple de 3 21\n",
      "multiple de 3 24\n",
      "multiple de 3 27\n",
      "multiple de 3 30\n",
      "multiple de 3 33\n",
      "multiple de 3 36\n",
      "multiple de 3 39\n",
      "multiple de 7 0\n",
      "multiple de 7 7\n",
      "multiple de 7 14\n",
      "multiple de 7 21\n",
      "multiple de 7 28\n",
      "multiple de 7 35\n",
      "multiple de 11 0\n",
      "multiple de 11 11\n",
      "multiple de 11 22\n",
      "multiple de 11 33\n"
     ]
    }
   ],
   "source": [
    "for i in range(0,41):\n",
    "    if i%3==0:\n",
    "        print(\"multiple de 3\",i)\n",
    "for i in range(0,41):\n",
    "    if i%7==0:\n",
    "        print(\"multiple de 7\",i)\n",
    "for i in range(0,41):\n",
    "    if i%11==0:\n",
    "        print(\"multiple de 11\",i)\n",
    "    "
   ]
  },
  {
   "cell_type": "markdown",
   "id": "d260e24e",
   "metadata": {},
   "source": [
    "### Exercice 12"
   ]
  },
  {
   "cell_type": "code",
   "execution_count": null,
   "id": "b5e76147",
   "metadata": {},
   "outputs": [],
   "source": [
    "x=float(input(\"Entrez réel \"))\n",
    "n=int(x)\n",
    "if x==n:\n",
    "    print(n)\n",
    "elif x>=0:\n",
    "    print(n)\n",
    "else:\n",
    "    print(n-1)"
   ]
  },
  {
   "cell_type": "markdown",
   "id": "c20d27a3",
   "metadata": {},
   "source": [
    "### Exercice 13"
   ]
  },
  {
   "cell_type": "code",
   "execution_count": 34,
   "id": "8fb1a241",
   "metadata": {},
   "outputs": [
    {
     "name": "stdout",
     "output_type": "stream",
     "text": [
      "Entrez l'abscisse du point1\n",
      "Entrez l'ordonnée du point1\n",
      "Point dans le premier quadran\n"
     ]
    }
   ],
   "source": [
    "x=float(input(\"Entrez l'abscisse du point \"))\n",
    "y=float(input(\"Entrez l'ordonnée du point \"))\n",
    "if x==0 and y==0:\n",
    "    print(\"Origine du repère\")\n",
    "if x==0:\n",
    "    print(\"Point appartenant à l'axe des ordonnées\")\n",
    "if y==0:\n",
    "    print(\"Point appartenant à l'axe des abscisses\")\n",
    "if x>0 and y>0:\n",
    "    print(\"Point dans le premier quadran\")\n",
    "if x<0 and y>0:\n",
    "    print(\"Point dans le deuxième quadran\")\n",
    "if x<0 and y<0:\n",
    "    print(\"Point dans le troisième quadran\")\n",
    "if x>0 and y<0:\n",
    "    print(\"Point dans le auqtrième quadran\")\n",
    "    \n"
   ]
  },
  {
   "cell_type": "markdown",
   "id": "28210943",
   "metadata": {},
   "source": [
    "### Exercice 14"
   ]
  },
  {
   "cell_type": "code",
   "execution_count": 7,
   "id": "d349e37d",
   "metadata": {},
   "outputs": [
    {
     "name": "stdout",
     "output_type": "stream",
     "text": [
      "Entrez un entier compris en 0 et 9 : 14\n",
      "Entrez un entier compris en 0 et 9 : -2\n",
      "Entrez un entier compris en 0 et 9 : 8\n",
      "Entrez un entier entre 0 et 256 :51945\n",
      "Entrez un entier entre 0 et 256 :498489\n",
      "Entrez un entier entre 0 et 256 :-55\n",
      "Entrez un entier entre 0 et 256 :98\n",
      "Les multiples de  8  entre 0 et  98  sont  [0, 8, 16, 24, 32, 40, 48, 56, 64, 72, 80, 88, 96]\n"
     ]
    }
   ],
   "source": [
    "multiple=[]\n",
    "x=int(input(\"Entrez un entier compris en 0 et 9 : \"))\n",
    "while x<0 or x>9:\n",
    "    x=int(input(\"Entrez un entier compris en 0 et 9 : \"))\n",
    "maxi=int(input(\"Entrez un entier entre 0 et 256 :\"))\n",
    "while maxi<0 or maxi>256:\n",
    "    maxi=int(input(\"Entrez un entier entre 0 et 256 :\"))\n",
    "\n",
    "for i in range(0,maxi+1):\n",
    "    if i%x==0:\n",
    "        multiple.append(i)\n",
    "print(\"Les multiples de \", x, \" entre 0 et \", maxi, \" sont \", multiple)"
   ]
  },
  {
   "cell_type": "code",
   "execution_count": null,
   "id": "44a57cd9",
   "metadata": {},
   "outputs": [],
   "source": []
  }
 ],
 "metadata": {
  "kernelspec": {
   "display_name": "Python 3 (ipykernel)",
   "language": "python",
   "name": "python3"
  },
  "language_info": {
   "codemirror_mode": {
    "name": "ipython",
    "version": 3
   },
   "file_extension": ".py",
   "mimetype": "text/x-python",
   "name": "python",
   "nbconvert_exporter": "python",
   "pygments_lexer": "ipython3",
   "version": "3.8.10"
  }
 },
 "nbformat": 4,
 "nbformat_minor": 5
}
