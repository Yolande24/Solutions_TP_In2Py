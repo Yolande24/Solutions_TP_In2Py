{
 "cells": [
  {
   "cell_type": "markdown",
   "id": "QYZn2ujP9tcA",
   "metadata": {
    "id": "QYZn2ujP9tcA"
   },
   "source": [
    "\n",
    "\n",
    "### <center> <b> <span style=\"color:blue;\"> Travaux Pratiques: Fonctions</span> </b></center>\n",
    "\n"
   ]
  },
  {
   "cell_type": "markdown",
   "id": "iMDzVKcl9tcE",
   "metadata": {
    "id": "iMDzVKcl9tcE"
   },
   "source": [
    "#### **Exercice 00:**  \n",
    "> **Écrire une fonction `cube` qui retourne le cube de son argument.**"
   ]
  },
  {
   "cell_type": "code",
   "execution_count": 58,
   "id": "f85b9d17",
   "metadata": {},
   "outputs": [
    {
     "name": "stdout",
     "output_type": "stream",
     "text": [
      "Entrez un entier4\n",
      "64\n"
     ]
    }
   ],
   "source": [
    "n=input('Entrez un entier')\n",
    "def cube(n):\n",
    "    \"\"\" Calcul du cube d(un entier)\"\"\"\n",
    "    return pow(n,3)\n",
    "print(cube(int(n)))"
   ]
  },
  {
   "cell_type": "markdown",
   "id": "m1ac89qS9tcH",
   "metadata": {
    "id": "m1ac89qS9tcH"
   },
   "source": [
    "#### **Exercice 01:**  \n",
    "> **Déclarez une fonction `ajouter_deux_nombres`. Elle prend deux paramètres et renvoie leur somme.**"
   ]
  },
  {
   "cell_type": "code",
   "execution_count": 22,
   "id": "E_AgGmNy9tcH",
   "metadata": {
    "id": "E_AgGmNy9tcH"
   },
   "outputs": [
    {
     "name": "stdout",
     "output_type": "stream",
     "text": [
      "Entrez un entier4\n",
      "Entrez un entier6\n",
      "10\n"
     ]
    }
   ],
   "source": [
    "a=input(\"Entrez un entier\")\n",
    "b=input(\"Entrez un entier\")\n",
    "def ajouter_deux_nombres(a,b):\n",
    "    \"\"\"Calcul de la somme de deux entiers\"\"\"\n",
    "    return a+b\n",
    "print(ajouter_deux_nombres(int(a),int(b)))"
   ]
  },
  {
   "cell_type": "markdown",
   "id": "PKjvAV4y9tcJ",
   "metadata": {
    "id": "PKjvAV4y9tcJ"
   },
   "source": [
    "#### **Exercice 02:**  \n",
    "> **L'aire d'un cercle se calcule comme suit : aire = pi x r x r avec pi=3,14. Écrivez une fonction `aire_du_cercle` qui prend le rayon en argument et calcule l'aire du cercle correspodant.**"
   ]
  },
  {
   "cell_type": "code",
   "execution_count": 31,
   "id": "AxGzHKXX9tcL",
   "metadata": {
    "id": "AxGzHKXX9tcL"
   },
   "outputs": [
    {
     "name": "stdout",
     "output_type": "stream",
     "text": [
      "Entrez le rayon du cercle1\n",
      "3.14\n"
     ]
    }
   ],
   "source": [
    "rayon=input(\"Entrez le rayon du cercle\")\n",
    "def aire_du_cercle(rayon, pi=3.14):\n",
    "    \"\"\"Calcul de l'aire d'un cercle dont le rayon est donné en paramètre\"\"\"\n",
    "    return rayon*rayon*pi\n",
    "print(aire_du_cercle(int(rayon)))"
   ]
  },
  {
   "cell_type": "markdown",
   "id": "6OBRL3oj9tcL",
   "metadata": {
    "id": "6OBRL3oj9tcL"
   },
   "source": [
    "#### **Exercice 03:**  \n",
    "> **La température en °C peut être convertie en °F à l'aide de cette formule : °F = (°C x 9/5) + 32. Écrivez une fonction `convert_celsius_en_fahrenheit` qui convertit les °C en °F**."
   ]
  },
  {
   "cell_type": "code",
   "execution_count": 32,
   "id": "LpDPEBxn9tcN",
   "metadata": {
    "colab": {
     "base_uri": "https://localhost:8080/"
    },
    "id": "LpDPEBxn9tcN",
    "outputId": "7c62c4a2-828a-4eea-e995-a89e3acda0ed"
   },
   "outputs": [
    {
     "name": "stdout",
     "output_type": "stream",
     "text": [
      "Enter the value in celsius 4\n",
      "39.2\n"
     ]
    }
   ],
   "source": [
    "C=float(input('Enter the value in celsius '))\n",
    " \"\"\" conversion de degré en celsuis\"\"\"\n",
    "def Fahre(C):\n",
    "  F=(C*9/5)+32\n",
    "  return F\n",
    "print(Fahre(C))"
   ]
  },
  {
   "cell_type": "markdown",
   "id": "rJRPsZ2h9tcP",
   "metadata": {
    "id": "rJRPsZ2h9tcP"
   },
   "source": [
    "#### **Exercice 04:** \n",
    ">**Écrire une fonction somme avec un argument « tuple de longueur variable » qui calcule la somme des nombres contenus dans le tuple.Tester cette fonction par des appels avec différents tuples d’entiers ou de flottants.**"
   ]
  },
  {
   "cell_type": "code",
   "execution_count": 49,
   "id": "7qn8Czdc9tcP",
   "metadata": {
    "colab": {
     "base_uri": "https://localhost:8080/"
    },
    "id": "7qn8Czdc9tcP",
    "outputId": "998d9d34-3e4c-4a64-f02e-9faa0ff36abe"
   },
   "outputs": [
    {
     "name": "stdout",
     "output_type": "stream",
     "text": [
      "190\n",
      "1225\n"
     ]
    }
   ],
   "source": [
    "x=range(1,20)\n",
    "y=range(1,50)\n",
    "som=0\n",
    "def somme(a):\n",
    "     \"\"\" somme de deux nombres\"\"\"\n",
    "    return sum(a)\n",
    "print(somme(x))\n",
    "print(somme(y))"
   ]
  },
  {
   "cell_type": "markdown",
   "id": "kls1kYNh9tcR",
   "metadata": {
    "id": "kls1kYNh9tcR"
   },
   "source": [
    "#### **Exercice 05:** \n",
    ">**Ecrire `somme_liste` qui calcule la somme des nombres contenus dans une liste.Tester cette fonction par des appels avec différents listes d’entiers ou de flottants.**"
   ]
  },
  {
   "cell_type": "code",
   "execution_count": 50,
   "id": "ccd18b1e",
   "metadata": {},
   "outputs": [
    {
     "name": "stdout",
     "output_type": "stream",
     "text": [
      "66\n",
      "78\n"
     ]
    }
   ],
   "source": [
    "x=range(1,12)\n",
    "y=range(1,13)\n",
    "som=0\n",
    "def somme_liste(a):\n",
    "     \"\"\" somme d'éléments de liste\"\"\"\n",
    "    return sum(a)\n",
    "print(somme_liste(x))\n",
    "print(somme_liste(y))"
   ]
  },
  {
   "cell_type": "markdown",
   "id": "l4gQECfk9tcS",
   "metadata": {
    "id": "l4gQECfk9tcS"
   },
   "source": [
    "#### **Exercice 06:** \n",
    ">**Écrire une fonction somme qui  prend en argument un entier $n$ et retourne la somme  des $n$-prémiers entiers naturels.**"
   ]
  },
  {
   "cell_type": "code",
   "execution_count": 51,
   "id": "bfcfdd87",
   "metadata": {},
   "outputs": [
    {
     "name": "stdout",
     "output_type": "stream",
     "text": [
      "Entrez un entier non nul5\n",
      "15\n"
     ]
    }
   ],
   "source": [
    "n=int(input(\"Entrez un entier non nul\"))\n",
    "def somme(n):\n",
    "     \"\"\" somme de n premiers entiers\"\"\"\n",
    "    return sum(range(1,n+1))\n",
    "print(somme(n))"
   ]
  },
  {
   "cell_type": "markdown",
   "id": "tK9EsjZf9tcU",
   "metadata": {
    "id": "tK9EsjZf9tcU"
   },
   "source": [
    "#### **Exercice 07:** \n",
    ">**Écrire une fonction `nom` qui demande à l'utilisateur d'entrer son nom ensuite son prénom et affiche son prénom suivit de son nom.**"
   ]
  },
  {
   "cell_type": "code",
   "execution_count": 56,
   "id": "64b41382",
   "metadata": {},
   "outputs": [
    {
     "name": "stdout",
     "output_type": "stream",
     "text": [
      "Entrez votre nomat\n",
      "Entrez votre prenomjo\n",
      "('jo', 'at')\n"
     ]
    }
   ],
   "source": [
    "def nom():\n",
    "     \"\"\" Avoir le nom et le prénom d'une personne\"\"\"\n",
    "    n=input(\"Entrez votre nom\")\n",
    "    p=input(\"Entrez votre prenom\")\n",
    "    return p, n\n",
    "print(nom())"
   ]
  },
  {
   "cell_type": "markdown",
   "id": "YSwrwcEz9tcX",
   "metadata": {
    "id": "YSwrwcEz9tcX"
   },
   "source": [
    "#### **Exercice 08:** \n",
    ">**Écrire une fonction `nom` qui demande à l'utilisateur d'entrer son nom ensuite son prénom et affiche son prénom suivit de son nom.**"
   ]
  },
  {
   "cell_type": "code",
   "execution_count": null,
   "id": "mRk-8h1P9tcZ",
   "metadata": {
    "id": "mRk-8h1P9tcZ"
   },
   "outputs": [],
   "source": [
    "def nom():\n",
    "    \"\"\" Avoir le nom et le prénom d'une personne\"\"\"\n",
    "    n=input(\"Entrez votre nom\")\n",
    "    p=input(\"Entrez votre prenom\")\n",
    "    return p, n\n",
    "print(nom())"
   ]
  },
  {
   "cell_type": "markdown",
   "id": "VYtzHXAd9tck",
   "metadata": {
    "id": "VYtzHXAd9tck"
   },
   "source": [
    "#### **Exercice 09:** \n",
    ">**Ecris une fonction `Maximum` qui renvoie le minimum de trois nombres.**"
   ]
  },
  {
   "cell_type": "code",
   "execution_count": 63,
   "id": "f25570cf",
   "metadata": {},
   "outputs": [
    {
     "name": "stdout",
     "output_type": "stream",
     "text": [
      "Entrez un nombre1\n",
      "Entrez un nombre2\n",
      "Entrez un nombre3\n",
      "1\n"
     ]
    }
   ],
   "source": [
    "def Maximum():\n",
    "    \"\"\" minimum de trois nombres\"\"\"\n",
    "    a=int(input(\"Entrez un nombre\"))\n",
    "    b=int(input(\"Entrez un nombre\"))\n",
    "    c=int(input(\"Entrez un nombre\"))\n",
    "    return min(a,b,c)\n",
    "print(Maximum())"
   ]
  },
  {
   "cell_type": "markdown",
   "id": "gTpTAnGm9tcm",
   "metadata": {
    "id": "gTpTAnGm9tcm"
   },
   "source": [
    "#### **Exercice 10:**\n",
    ">**Soit $f(x)=ax^2+bx+c$ un trinôme du second degré.**\n",
    " 1. **Ecris une fonction `Discriminant` qui calcule son discriminant.**\n",
    " 2. **Ecris ensuite une fonction `existence_des_racines_du_trinome` qui discute suivant les valeurs du discriminant, l'existence de ses racines.** \n"
   ]
  },
  {
   "cell_type": "code",
   "execution_count": 65,
   "id": "4ae600d3",
   "metadata": {},
   "outputs": [],
   "source": [
    " def Discriminant():\n",
    "        \"\"\" Calcul de discriminant\"\"\"\n",
    "        a=float(input(\"Coefficient de degré 2\"))\n",
    "        b=float(input(\"Coefficient de degré 1\"))\n",
    "        c=float(input(\"Coefficient de degré 0\"))\n",
    "        return pow(b,2)-4*a*c\n",
    "    \n",
    "def existence_des_racines_du_trinome():\n",
    "    \"\"\" Vérification de l'existence de racine\"\"\"\n",
    "    if Discriminant < 0:\n",
    "        print(\"Pas de racine\")\n",
    "    if Discriminant >= 0:\n",
    "        print(\"Existence de racines\")"
   ]
  },
  {
   "cell_type": "markdown",
   "id": "WgJ06GHA9tcn",
   "metadata": {
    "id": "WgJ06GHA9tcn"
   },
   "source": [
    "#### **Exercice 11:**\n",
    ">**Ecris une fonction qui affiche le reste de la division euclidienne d'un entier naturel $a$ par un entier naturel $b$**.\n"
   ]
  },
  {
   "cell_type": "code",
   "execution_count": 66,
   "id": "S1uM-Jca9tcn",
   "metadata": {
    "id": "S1uM-Jca9tcn"
   },
   "outputs": [
    {
     "name": "stdout",
     "output_type": "stream",
     "text": [
      "Entrez la dividende5\n",
      "Entrez la diviseur2\n",
      "1\n"
     ]
    }
   ],
   "source": [
    "a=int(input(\"Entrez la dividende\"))\n",
    "b=int(input(\"Entrez la diviseur\"))\n",
    "def divise(a,b):\n",
    "    \"\"\" Avoir  le reste d'une division\"\"\"\n",
    "    return a%b\n",
    "print(divise(a,b))"
   ]
  },
  {
   "cell_type": "markdown",
   "id": "dtC_cOVJ9tco",
   "metadata": {
    "id": "dtC_cOVJ9tco"
   },
   "source": [
    "#### **Exercice 12:**\n",
    ">**Ecris une fonction `terme_suite_geometrique` qui affiche le n-ième terme d'une suite géométrique $(v_n)$ de premier terme $v_0$ et de raison $q$. Teste ce programme pour $v_0=2, q=3$ et $n=4$.**"
   ]
  },
  {
   "cell_type": "code",
   "execution_count": 71,
   "id": "TeLDRV8N9tco",
   "metadata": {
    "id": "TeLDRV8N9tco"
   },
   "outputs": [
    {
     "name": "stdout",
     "output_type": "stream",
     "text": [
      "Entrez le premier terme1\n",
      "Entrez la raison2\n",
      "Entrez l'indice du terme à calculer3\n",
      "8.0\n"
     ]
    }
   ],
   "source": [
    "vo=float(input(\"Entrez le premier terme\"))\n",
    "q=float(input(\"Entrez la raison\"))\n",
    "n=int(input(\"Entrez l'indice du terme à calculer\"))\n",
    "def terme_suite_geometrique():\n",
    "    \"\"\" Calcul du terme d'une suite géométrique\"\"\"\n",
    "    return vo*(pow(q,n))\n",
    "print(terme_suite_geometrique())"
   ]
  },
  {
   "cell_type": "markdown",
   "id": "GrmGuHwu9tco",
   "metadata": {
    "id": "GrmGuHwu9tco"
   },
   "source": [
    "#### **Exercice 13:**\n",
    ">**Écris une fonction `merci` prend en paramètre un `nom` et renvoie le message \"Merci pour votre présence à cet atelier,`nom`.**\n"
   ]
  },
  {
   "cell_type": "code",
   "execution_count": 72,
   "id": "8579caeb",
   "metadata": {},
   "outputs": [
    {
     "name": "stdout",
     "output_type": "stream",
     "text": [
      "Entrez votre nomEsther\n",
      "Merci pour votre présence à cet atelier Esther\n"
     ]
    }
   ],
   "source": [
    "nom=input(\"Entrez votre nom\")\n",
    "def merci(nom):\n",
    "    return nom\n",
    "print(\"Merci pour votre présence à cet atelier\", nom)"
   ]
  },
  {
   "cell_type": "markdown",
   "id": "T3jopRLc9tco",
   "metadata": {
    "id": "T3jopRLc9tco"
   },
   "source": [
    "#### **Exercice 14:**\n",
    ">**Écris une fonction `ma_suite` qui définit la suite $(u_n)$ telle que  $$u_{n}=\\frac{2n^2+3n-1}{n+6}.$$\n",
    "Affiche son 5e terme.**\n"
   ]
  },
  {
   "cell_type": "code",
   "execution_count": 75,
   "id": "P1l82riw9tcp",
   "metadata": {
    "id": "P1l82riw9tcp"
   },
   "outputs": [
    {
     "name": "stdout",
     "output_type": "stream",
     "text": [
      "5.818181818181818\n"
     ]
    }
   ],
   "source": [
    "def ma_suite (n):\n",
    "    \"\"\" Calcul du terme d'indice 5 d'une suite \"\"\"\n",
    "    return (2*pow(n,2)+3*n-1)/(n+6)\n",
    "print(ma_suite (5))"
   ]
  },
  {
   "cell_type": "markdown",
   "id": "SIizzU_A9tcp",
   "metadata": {
    "id": "SIizzU_A9tcp"
   },
   "source": [
    "\n",
    "\n",
    "<center> <b> <span style=\"color:orange;\"> 🎉 FÉLICITATIONS ! 🎉 </span> </b></center>"
   ]
  }
 ],
 "metadata": {
  "colab": {
   "collapsed_sections": [],
   "name": "In2Py_TP_05.ipynb",
   "provenance": []
  },
  "kernelspec": {
   "display_name": "Python 3 (ipykernel)",
   "language": "python",
   "name": "python3"
  },
  "language_info": {
   "codemirror_mode": {
    "name": "ipython",
    "version": 3
   },
   "file_extension": ".py",
   "mimetype": "text/x-python",
   "name": "python",
   "nbconvert_exporter": "python",
   "pygments_lexer": "ipython3",
   "version": "3.8.10"
  }
 },
 "nbformat": 4,
 "nbformat_minor": 5
}
